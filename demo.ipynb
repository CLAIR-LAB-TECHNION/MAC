{
 "cells": [
  {
   "cell_type": "markdown",
   "id": "c3b5deb2-004e-4c5b-a2e3-6c936996bcec",
   "metadata": {},
   "source": [
    "<a target=\"_blank\" href=\"https://colab.research.google.com/github/CLAIR-LAB-TECHNION/MAC/blob/master/demo.ipynb\">\n",
    "  <img src=\"https://colab.research.google.com/assets/colab-badge.svg\" alt=\"Open In Colab\"/>\n",
    "</a>"
   ]
  },
  {
   "cell_type": "code",
   "execution_count": 1,
   "id": "initial_id",
   "metadata": {
    "is_executing": true,
    "scrolled": true
   },
   "outputs": [],
   "source": [
    "!pip install \"git+https://github.com/CLAIR-LAB-TECHNION/MAC/\"\n",
    "!pip install \"git+https://github.com/CLAIR-LAB-TECHNION/multi_taxi@0.4.0\""
   ]
  },
  {
   "cell_type": "code",
   "execution_count": 2,
   "id": "cce7456e80d556df",
   "metadata": {
    "collapsed": false,
    "jupyter": {
     "outputs_hidden": false
    }
   },
   "outputs": [],
   "source": [
    "from mac.coordination.coordinator import CentralizedCoordinator\n",
    "from mac.env_wrapper import EnvWrapper\n",
    "from mac.agent import Agent"
   ]
  },
  {
   "cell_type": "code",
   "execution_count": 3,
   "id": "e3f513b4-044b-4d23-a390-d10d09e9aea8",
   "metadata": {},
   "outputs": [],
   "source": [
    "class TaxiCentralizedCoordinator(CentralizedCoordinator):\n",
    "    def run_step(self, step_data):\n",
    "        joint_action = self.central_agent.get_action(step_data)\n",
    "        step_data = self.env_wrapper.step(joint_action)\n",
    "        return step_data, joint_action\n",
    "\n",
    "    def get_initial_data(self):\n",
    "        obs, infos = self.env_wrapper.reset()\n",
    "        rewards = {agent_id: 0 for agent_id in obs}\n",
    "        terms = {agent_id: False for agent_id in obs}\n",
    "        truncs = {agent_id: False for agent_id in obs}\n",
    "\n",
    "        return obs, rewards, terms, truncs, infos\n",
    "\n",
    "    def log_step(self, step_data):\n",
    "        pass\n",
    "\n",
    "    def init_log_data(self):\n",
    "        pass\n",
    "\n",
    "    def get_ids(self):\n",
    "        return self.env_wrapper.env.agents"
   ]
  },
  {
   "cell_type": "code",
   "execution_count": 4,
   "id": "f25e6a80-b6d5-42ca-a2a3-bbefda46aeae",
   "metadata": {},
   "outputs": [],
   "source": [
    "import time\n",
    "from IPython.display import clear_output\n",
    "\n",
    "SLEEP_TIME = 0.2\n",
    "\n",
    "class TaxiWrapper(EnvWrapper):\n",
    "    def get_agent_step_data(self, step_data, agent_id):\n",
    "        return [item[agent_id] for item in step_data]\n",
    "\n",
    "    def reset(self):\n",
    "        out = self.env.reset(return_info=True)\n",
    "        time.sleep(SLEEP_TIME)\n",
    "        clear_output(wait=True)\n",
    "        self.env.render()\n",
    "        return out\n",
    "\n",
    "    def step(self, action):\n",
    "        out = self.env.step(action)\n",
    "        time.sleep(SLEEP_TIME)\n",
    "        clear_output(wait=True)\n",
    "        self.env.render()\n",
    "        return out\n",
    "\n",
    "    def is_done(self, step_data):\n",
    "        return self.env.env_done()"
   ]
  },
  {
   "cell_type": "code",
   "execution_count": 5,
   "id": "208ef11c-63ec-4dd3-8ee0-bdea6341c3f8",
   "metadata": {},
   "outputs": [],
   "source": [
    "class TaxiRandomCentralAgent(Agent):\n",
    "    def __init__(self, action_spaces):\n",
    "        self.action_spaces = action_spaces\n",
    "\n",
    "    def get_action(self, step_data):\n",
    "        return {\n",
    "            agent_id: self.action_spaces[agent_id].sample()\n",
    "            for agent_id in self.action_spaces\n",
    "        }\n",
    "\n",
    "    def get_observation(self, step_data):\n",
    "        obs, _, _, _, _ = step_data\n",
    "        return obs"
   ]
  },
  {
   "cell_type": "code",
   "execution_count": 6,
   "id": "f5c92b2e-813a-4c91-bf5d-97b13d4b1bab",
   "metadata": {},
   "outputs": [],
   "source": [
    "from multi_taxi import multi_taxi_v0\n",
    "\n",
    "env = multi_taxi_v0.parallel_env(num_taxis=5, num_passengers=5, render_mode='human')"
   ]
  },
  {
   "cell_type": "code",
   "execution_count": 7,
   "id": "cb7ad4b8-4435-4178-b81b-ccc12cf03396",
   "metadata": {},
   "outputs": [],
   "source": [
    "env_wrapper = TaxiWrapper(env)\n",
    "central_agent = TaxiRandomCentralAgent({agent: env.action_space(agent) for agent in env.possible_agents})\n",
    "coordinator = TaxiCentralizedCoordinator(env_wrapper, None, central_agent)"
   ]
  },
  {
   "cell_type": "code",
   "execution_count": 8,
   "id": "561ebe8e-0527-4817-92e8-c6a1c089cdbc",
   "metadata": {},
   "outputs": [
    {
     "name": "stdout",
     "output_type": "stream",
     "text": [
      "+-----------------------+\n",
      "| : |F: | : | : | : |F: |\n",
      "| : | : : : | : | : |\u001b[41m \u001b[0m: |\n",
      "|\u001b[37mP\u001b[0m: :\u001b[33mP\u001b[0m: : :\u001b[36mP\u001b[0m: : : : : : |\n",
      "| : : : :\u001b[31mP\u001b[0m: | : :\u001b[37mD\u001b[0m:\u001b[43m\u001b[31mD\u001b[0m\u001b[0m: : |\n",
      "| : : : : : | : : : :\u001b[42m \u001b[0m: |\n",
      "|\u001b[32mD\u001b[0m:\u001b[33mD\u001b[0m:\u001b[36mD\u001b[0m: : : : : : : : : |\n",
      "| | :G| | | :\u001b[46mG\u001b[0m|\u001b[47m \u001b[0m| | : |\u001b[32mP\u001b[0m|\n",
      "+-----------------------+\n",
      "Taxi0-YELLOW: Fuel: inf, Location: (3, 9), Engine: ON, Collided: False, Step: 100, ALIVE\n",
      "Taxi1-RED: Fuel: inf, Location: (1, 10), Engine: ON, Collided: False, Step: 100, ALIVE\n",
      "Taxi2-WHITE: Fuel: inf, Location: (6, 7), Engine: ON, Collided: False, Step: 100, ALIVE\n",
      "Taxi3-GREEN: Fuel: inf, Location: (4, 10), Engine: ON, Collided: False, Step: 100, ALIVE\n",
      "Taxi4-CYAN: Fuel: inf, Location: (6, 6), Engine: ON, Collided: False, Step: 100, ALIVE\n",
      "Passenger0-YELLOW: Location: (2, 2), Destination: (5, 1)\n",
      "Passenger1-RED: Location: (3, 4), Destination: (3, 9)\n",
      "Passenger2-WHITE: Location: (2, 0), Destination: (3, 8)\n",
      "Passenger3-GREEN: Location: (6, 11), Destination: (5, 0)\n",
      "Passenger4-CYAN: Location: (2, 5), Destination: (5, 2)\n",
      "Env done: False\n",
      "\n"
     ]
    }
   ],
   "source": [
    "coordinator.run(100)"
   ]
  }
 ],
 "metadata": {
  "kernelspec": {
   "display_name": "Python 3 (ipykernel)",
   "language": "python",
   "name": "python3"
  },
  "language_info": {
   "codemirror_mode": {
    "name": "ipython",
    "version": 3
   },
   "file_extension": ".py",
   "mimetype": "text/x-python",
   "name": "python",
   "nbconvert_exporter": "python",
   "pygments_lexer": "ipython3",
   "version": "3.8.17"
  }
 },
 "nbformat": 4,
 "nbformat_minor": 5
}
